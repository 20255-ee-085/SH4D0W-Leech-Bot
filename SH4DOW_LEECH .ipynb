{
 "cells": [
  {
   "cell_type": "markdown",
   "metadata": {},
   "source": [
    "#@title SH4D0W Leech Bot Setup\n",
    "!apt update && apt upgrade -y\n",
    "!apt install -y ffmpeg\n",
    "\n",
    "# Clone repository\n",
    "!git clone https://github.com/20255-ee-085/SH4D0W-Leech-Bot\n",
    "%cd SH4D0W-Leech-Bot\n",
    "\n",
    "# Install requirements\n",
    "!pip install -r requirements.txt\n",
    "\n",
    "# Setup environment variables\n",
    "import os\n",
    "os.environ['API_ID'] = '123456' #@param {type:\"string\"}\n",
    "os.environ['API_HASH'] = 'abcdef123' #@param {type:\"string\"}\n",
    "os.environ['BOT_TOKEN'] = '123:ABC' #@param {type:\"string\"}\n",
    "os.environ['ADMIN_ID'] = '00000000' #@param {type:\"string\"}\n",
    "\n",
    "# Start the bot\n",
    "!python main.py"
   ]
  }
 ],
 "metadata": {
  "language_info": {
   "name": "python"
  }
 },
 "nbformat": 4,
 "nbformat_minor": 2
}
